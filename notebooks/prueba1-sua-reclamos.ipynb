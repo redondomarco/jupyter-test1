{
 "cells": [
  {
   "cell_type": "code",
   "execution_count": 9,
   "id": "8f408e42",
   "metadata": {},
   "outputs": [],
   "source": [
    "import pandas as pd\n",
    "from geopy.geocoders import Nominatim\n",
    "import folium\n",
    "from modules.geomr import projmr_to_latlon"
   ]
  },
  {
   "cell_type": "code",
   "execution_count": 10,
   "id": "8827fa21",
   "metadata": {},
   "outputs": [],
   "source": [
    "df = pd.read_excel('./datos/exportacionTipo-reclamo y Fecha agosto 2021.ods', engine='odf')"
   ]
  },
  {
   "cell_type": "code",
   "execution_count": 11,
   "id": "780602b8",
   "metadata": {},
   "outputs": [
    {
     "data": {
      "text/html": [
       "<div>\n",
       "<style scoped>\n",
       "    .dataframe tbody tr th:only-of-type {\n",
       "        vertical-align: middle;\n",
       "    }\n",
       "\n",
       "    .dataframe tbody tr th {\n",
       "        vertical-align: top;\n",
       "    }\n",
       "\n",
       "    .dataframe thead th {\n",
       "        text-align: right;\n",
       "    }\n",
       "</style>\n",
       "<table border=\"1\" class=\"dataframe\">\n",
       "  <thead>\n",
       "    <tr style=\"text-align: right;\">\n",
       "      <th></th>\n",
       "      <th>Id</th>\n",
       "      <th>Número</th>\n",
       "      <th>Año</th>\n",
       "      <th>Tipo</th>\n",
       "      <th>Subtipo</th>\n",
       "      <th>Origen</th>\n",
       "      <th>Categoría</th>\n",
       "      <th>Fecha hora registro</th>\n",
       "      <th>Estado</th>\n",
       "      <th>Área origen</th>\n",
       "      <th>Área últ. Derivación</th>\n",
       "      <th>Solicicitantes</th>\n",
       "      <th>Reiteraciones</th>\n",
       "      <th>Intervenciones</th>\n",
       "      <th>Distrito</th>\n",
       "      <th>Vecinal</th>\n",
       "      <th>Coord. X</th>\n",
       "      <th>Coord. Y</th>\n",
       "      <th>Opinión</th>\n",
       "    </tr>\n",
       "  </thead>\n",
       "  <tbody>\n",
       "    <tr>\n",
       "      <th>0</th>\n",
       "      <td>6600605</td>\n",
       "      <td>423150</td>\n",
       "      <td>2021</td>\n",
       "      <td>Reclamo</td>\n",
       "      <td>Problema de frecuencia ú horario</td>\n",
       "      <td>Telefónico</td>\n",
       "      <td>Colectivos urbanos</td>\n",
       "      <td>2021-08-01 00:09:49</td>\n",
       "      <td>RESUELTO</td>\n",
       "      <td>Atención 147</td>\n",
       "      <td>EMR - Monitoreo Transporte Urbano</td>\n",
       "      <td>1</td>\n",
       "      <td>0</td>\n",
       "      <td>0</td>\n",
       "      <td>SUDOESTE</td>\n",
       "      <td>Barrio Alvear</td>\n",
       "      <td>5.436323e+06</td>\n",
       "      <td>6.351094e+06</td>\n",
       "      <td>NaN</td>\n",
       "    </tr>\n",
       "    <tr>\n",
       "      <th>1</th>\n",
       "      <td>6600664</td>\n",
       "      <td>423209</td>\n",
       "      <td>2021</td>\n",
       "      <td>Reclamo</td>\n",
       "      <td>Problema de frecuencia ú horario</td>\n",
       "      <td>Telefónico</td>\n",
       "      <td>Colectivos urbanos</td>\n",
       "      <td>2021-08-01 01:38:48</td>\n",
       "      <td>RESUELTO</td>\n",
       "      <td>Atención 147</td>\n",
       "      <td>EMR - Monitoreo Transporte Urbano</td>\n",
       "      <td>1</td>\n",
       "      <td>0</td>\n",
       "      <td>1</td>\n",
       "      <td>CENTRO</td>\n",
       "      <td>Monumento a la Bandera</td>\n",
       "      <td>5.440628e+06</td>\n",
       "      <td>6.354476e+06</td>\n",
       "      <td>NaN</td>\n",
       "    </tr>\n",
       "    <tr>\n",
       "      <th>2</th>\n",
       "      <td>6600679</td>\n",
       "      <td>423224</td>\n",
       "      <td>2021</td>\n",
       "      <td>Reclamo</td>\n",
       "      <td>Problema de conducta del chofer</td>\n",
       "      <td>Telefónico</td>\n",
       "      <td>Colectivos urbanos</td>\n",
       "      <td>2021-08-01 02:00:12</td>\n",
       "      <td>RESUELTO</td>\n",
       "      <td>Atención 147</td>\n",
       "      <td>EMR - Atención al usuario</td>\n",
       "      <td>1</td>\n",
       "      <td>0</td>\n",
       "      <td>2</td>\n",
       "      <td>SUDOESTE</td>\n",
       "      <td>Dorrego</td>\n",
       "      <td>5.437810e+06</td>\n",
       "      <td>6.349972e+06</td>\n",
       "      <td>NaN</td>\n",
       "    </tr>\n",
       "    <tr>\n",
       "      <th>3</th>\n",
       "      <td>6600717</td>\n",
       "      <td>423262</td>\n",
       "      <td>2021</td>\n",
       "      <td>Reclamo</td>\n",
       "      <td>Objeto perdido</td>\n",
       "      <td>Telefónico</td>\n",
       "      <td>Taxis y remises</td>\n",
       "      <td>2021-08-01 03:08:16</td>\n",
       "      <td>CERRADO</td>\n",
       "      <td>Atención 147</td>\n",
       "      <td>CIOR - Monitoreo de Taxis</td>\n",
       "      <td>1</td>\n",
       "      <td>2</td>\n",
       "      <td>1</td>\n",
       "      <td>CENTRO</td>\n",
       "      <td>Solidaridad Social</td>\n",
       "      <td>5.439527e+06</td>\n",
       "      <td>6.353090e+06</td>\n",
       "      <td>NaN</td>\n",
       "    </tr>\n",
       "    <tr>\n",
       "      <th>4</th>\n",
       "      <td>6600730</td>\n",
       "      <td>423275</td>\n",
       "      <td>2021</td>\n",
       "      <td>Reclamo</td>\n",
       "      <td>Sector apagado ó encendido</td>\n",
       "      <td>Telefónico</td>\n",
       "      <td>Alumbrado</td>\n",
       "      <td>2021-08-01 03:36:02</td>\n",
       "      <td>RESUELTO</td>\n",
       "      <td>Atención 147</td>\n",
       "      <td>Alumbrado Público Zona 1</td>\n",
       "      <td>1</td>\n",
       "      <td>0</td>\n",
       "      <td>1</td>\n",
       "      <td>NORTE</td>\n",
       "      <td>Arroyito Oeste</td>\n",
       "      <td>5.434936e+06</td>\n",
       "      <td>6.358631e+06</td>\n",
       "      <td>NaN</td>\n",
       "    </tr>\n",
       "  </tbody>\n",
       "</table>\n",
       "</div>"
      ],
      "text/plain": [
       "        Id  Número   Año     Tipo                           Subtipo  \\\n",
       "0  6600605  423150  2021  Reclamo  Problema de frecuencia ú horario   \n",
       "1  6600664  423209  2021  Reclamo  Problema de frecuencia ú horario   \n",
       "2  6600679  423224  2021  Reclamo   Problema de conducta del chofer   \n",
       "3  6600717  423262  2021  Reclamo                    Objeto perdido   \n",
       "4  6600730  423275  2021  Reclamo        Sector apagado ó encendido   \n",
       "\n",
       "       Origen           Categoría Fecha hora registro    Estado   Área origen  \\\n",
       "0  Telefónico  Colectivos urbanos 2021-08-01 00:09:49  RESUELTO  Atención 147   \n",
       "1  Telefónico  Colectivos urbanos 2021-08-01 01:38:48  RESUELTO  Atención 147   \n",
       "2  Telefónico  Colectivos urbanos 2021-08-01 02:00:12  RESUELTO  Atención 147   \n",
       "3  Telefónico     Taxis y remises 2021-08-01 03:08:16   CERRADO  Atención 147   \n",
       "4  Telefónico           Alumbrado 2021-08-01 03:36:02  RESUELTO  Atención 147   \n",
       "\n",
       "                Área últ. Derivación  Solicicitantes  Reiteraciones  \\\n",
       "0  EMR - Monitoreo Transporte Urbano               1              0   \n",
       "1  EMR - Monitoreo Transporte Urbano               1              0   \n",
       "2          EMR - Atención al usuario               1              0   \n",
       "3          CIOR - Monitoreo de Taxis               1              2   \n",
       "4           Alumbrado Público Zona 1               1              0   \n",
       "\n",
       "   Intervenciones  Distrito                 Vecinal      Coord. X  \\\n",
       "0               0  SUDOESTE           Barrio Alvear  5.436323e+06   \n",
       "1               1    CENTRO  Monumento a la Bandera  5.440628e+06   \n",
       "2               2  SUDOESTE                 Dorrego  5.437810e+06   \n",
       "3               1    CENTRO      Solidaridad Social  5.439527e+06   \n",
       "4               1     NORTE          Arroyito Oeste  5.434936e+06   \n",
       "\n",
       "       Coord. Y  Opinión  \n",
       "0  6.351094e+06      NaN  \n",
       "1  6.354476e+06      NaN  \n",
       "2  6.349972e+06      NaN  \n",
       "3  6.353090e+06      NaN  \n",
       "4  6.358631e+06      NaN  "
      ]
     },
     "execution_count": 11,
     "metadata": {},
     "output_type": "execute_result"
    }
   ],
   "source": [
    "df.head()"
   ]
  },
  {
   "cell_type": "code",
   "execution_count": 12,
   "id": "998edd79",
   "metadata": {},
   "outputs": [],
   "source": [
    "locator = Nominatim(user_agent=\"myGeocoder\")"
   ]
  },
  {
   "cell_type": "code",
   "execution_count": 13,
   "id": "fc8443fa",
   "metadata": {},
   "outputs": [],
   "source": [
    "location = locator.geocode(\"Rosario, Santa Fe, Argentina\")"
   ]
  },
  {
   "cell_type": "code",
   "execution_count": 14,
   "id": "af64abbb",
   "metadata": {},
   "outputs": [],
   "source": [
    "map1 = folium.Map(location=[location.latitude, location.longitude], tiles='cartodbpositron', zoom_start=12)"
   ]
  },
  {
   "cell_type": "code",
   "execution_count": 15,
   "id": "21fe9e13",
   "metadata": {},
   "outputs": [
    {
     "data": {
      "text/plain": [
       "0        <folium.vector_layers.CircleMarker object at 0...\n",
       "1        <folium.vector_layers.CircleMarker object at 0...\n",
       "2        <folium.vector_layers.CircleMarker object at 0...\n",
       "3        <folium.vector_layers.CircleMarker object at 0...\n",
       "4        <folium.vector_layers.CircleMarker object at 0...\n",
       "                               ...                        \n",
       "17186    <folium.vector_layers.CircleMarker object at 0...\n",
       "17187    <folium.vector_layers.CircleMarker object at 0...\n",
       "17188    <folium.vector_layers.CircleMarker object at 0...\n",
       "17189    <folium.vector_layers.CircleMarker object at 0...\n",
       "17190    <folium.vector_layers.CircleMarker object at 0...\n",
       "Length: 17191, dtype: object"
      ]
     },
     "execution_count": 15,
     "metadata": {},
     "output_type": "execute_result"
    }
   ],
   "source": [
    "df.apply(lambda row:folium.CircleMarker(location=projmr_to_latlon(row[\"Coord. X\"], row[\"Coord. Y\"])).add_to(map1), axis=1)"
   ]
  },
  {
   "cell_type": "code",
   "execution_count": 8,
   "id": "ca40f27a",
   "metadata": {},
   "outputs": [
    {
     "data": {
      "text/html": [
       "<div style=\"width:100%;\"><div style=\"position:relative;width:100%;height:0;padding-bottom:60%;\"><span style=\"color:#565656\">Make this Notebook Trusted to load map: File -> Trust Notebook</span><iframe src=\"about:blank\" style=\"position:absolute;width:100%;height:100%;left:0;top:0;border:none !important;\" data-html=%3C%21DOCTYPE%20html%3E%0A%3Chead%3E%20%20%20%20%0A%20%20%20%20%3Cmeta%20http-equiv%3D%22content-type%22%20content%3D%22text/html%3B%20charset%3DUTF-8%22%20/%3E%0A%20%20%20%20%0A%20%20%20%20%20%20%20%20%3Cscript%3E%0A%20%20%20%20%20%20%20%20%20%20%20%20L_NO_TOUCH%20%3D%20false%3B%0A%20%20%20%20%20%20%20%20%20%20%20%20L_DISABLE_3D%20%3D%20false%3B%0A%20%20%20%20%20%20%20%20%3C/script%3E%0A%20%20%20%20%0A%20%20%20%20%3Cstyle%3Ehtml%2C%20body%20%7Bwidth%3A%20100%25%3Bheight%3A%20100%25%3Bmargin%3A%200%3Bpadding%3A%200%3B%7D%3C/style%3E%0A%20%20%20%20%3Cstyle%3E%23map%20%7Bposition%3Aabsolute%3Btop%3A0%3Bbottom%3A0%3Bright%3A0%3Bleft%3A0%3B%7D%3C/style%3E%0A%20%20%20%20%3Cscript%20src%3D%22https%3A//cdn.jsdelivr.net/npm/leaflet%401.6.0/dist/leaflet.js%22%3E%3C/script%3E%0A%20%20%20%20%3Cscript%20src%3D%22https%3A//code.jquery.com/jquery-1.12.4.min.js%22%3E%3C/script%3E%0A%20%20%20%20%3Cscript%20src%3D%22https%3A//maxcdn.bootstrapcdn.com/bootstrap/3.2.0/js/bootstrap.min.js%22%3E%3C/script%3E%0A%20%20%20%20%3Cscript%20src%3D%22https%3A//cdnjs.cloudflare.com/ajax/libs/Leaflet.awesome-markers/2.0.2/leaflet.awesome-markers.js%22%3E%3C/script%3E%0A%20%20%20%20%3Clink%20rel%3D%22stylesheet%22%20href%3D%22https%3A//cdn.jsdelivr.net/npm/leaflet%401.6.0/dist/leaflet.css%22/%3E%0A%20%20%20%20%3Clink%20rel%3D%22stylesheet%22%20href%3D%22https%3A//maxcdn.bootstrapcdn.com/bootstrap/3.2.0/css/bootstrap.min.css%22/%3E%0A%20%20%20%20%3Clink%20rel%3D%22stylesheet%22%20href%3D%22https%3A//maxcdn.bootstrapcdn.com/bootstrap/3.2.0/css/bootstrap-theme.min.css%22/%3E%0A%20%20%20%20%3Clink%20rel%3D%22stylesheet%22%20href%3D%22https%3A//maxcdn.bootstrapcdn.com/font-awesome/4.6.3/css/font-awesome.min.css%22/%3E%0A%20%20%20%20%3Clink%20rel%3D%22stylesheet%22%20href%3D%22https%3A//cdnjs.cloudflare.com/ajax/libs/Leaflet.awesome-markers/2.0.2/leaflet.awesome-markers.css%22/%3E%0A%20%20%20%20%3Clink%20rel%3D%22stylesheet%22%20href%3D%22https%3A//cdn.jsdelivr.net/gh/python-visualization/folium/folium/templates/leaflet.awesome.rotate.min.css%22/%3E%0A%20%20%20%20%0A%20%20%20%20%20%20%20%20%20%20%20%20%3Cmeta%20name%3D%22viewport%22%20content%3D%22width%3Ddevice-width%2C%0A%20%20%20%20%20%20%20%20%20%20%20%20%20%20%20%20initial-scale%3D1.0%2C%20maximum-scale%3D1.0%2C%20user-scalable%3Dno%22%20/%3E%0A%20%20%20%20%20%20%20%20%20%20%20%20%3Cstyle%3E%0A%20%20%20%20%20%20%20%20%20%20%20%20%20%20%20%20%23map_955cfca6ea4f46ad90705ba3b0b8f26e%20%7B%0A%20%20%20%20%20%20%20%20%20%20%20%20%20%20%20%20%20%20%20%20position%3A%20relative%3B%0A%20%20%20%20%20%20%20%20%20%20%20%20%20%20%20%20%20%20%20%20width%3A%20100.0%25%3B%0A%20%20%20%20%20%20%20%20%20%20%20%20%20%20%20%20%20%20%20%20height%3A%20100.0%25%3B%0A%20%20%20%20%20%20%20%20%20%20%20%20%20%20%20%20%20%20%20%20left%3A%200.0%25%3B%0A%20%20%20%20%20%20%20%20%20%20%20%20%20%20%20%20%20%20%20%20top%3A%200.0%25%3B%0A%20%20%20%20%20%20%20%20%20%20%20%20%20%20%20%20%7D%0A%20%20%20%20%20%20%20%20%20%20%20%20%3C/style%3E%0A%20%20%20%20%20%20%20%20%0A%3C/head%3E%0A%3Cbody%3E%20%20%20%20%0A%20%20%20%20%0A%20%20%20%20%20%20%20%20%20%20%20%20%3Cdiv%20class%3D%22folium-map%22%20id%3D%22map_955cfca6ea4f46ad90705ba3b0b8f26e%22%20%3E%3C/div%3E%0A%20%20%20%20%20%20%20%20%0A%3C/body%3E%0A%3Cscript%3E%20%20%20%20%0A%20%20%20%20%0A%20%20%20%20%20%20%20%20%20%20%20%20var%20map_955cfca6ea4f46ad90705ba3b0b8f26e%20%3D%20L.map%28%0A%20%20%20%20%20%20%20%20%20%20%20%20%20%20%20%20%22map_955cfca6ea4f46ad90705ba3b0b8f26e%22%2C%0A%20%20%20%20%20%20%20%20%20%20%20%20%20%20%20%20%7B%0A%20%20%20%20%20%20%20%20%20%20%20%20%20%20%20%20%20%20%20%20center%3A%20%5B-32.9595004%2C%20-60.6615415%5D%2C%0A%20%20%20%20%20%20%20%20%20%20%20%20%20%20%20%20%20%20%20%20crs%3A%20L.CRS.EPSG3857%2C%0A%20%20%20%20%20%20%20%20%20%20%20%20%20%20%20%20%20%20%20%20zoom%3A%2012%2C%0A%20%20%20%20%20%20%20%20%20%20%20%20%20%20%20%20%20%20%20%20zoomControl%3A%20true%2C%0A%20%20%20%20%20%20%20%20%20%20%20%20%20%20%20%20%20%20%20%20preferCanvas%3A%20false%2C%0A%20%20%20%20%20%20%20%20%20%20%20%20%20%20%20%20%7D%0A%20%20%20%20%20%20%20%20%20%20%20%20%29%3B%0A%0A%20%20%20%20%20%20%20%20%20%20%20%20%0A%0A%20%20%20%20%20%20%20%20%0A%20%20%20%20%0A%20%20%20%20%20%20%20%20%20%20%20%20var%20tile_layer_d3028bb95d87460b9e84a5ee518b8c61%20%3D%20L.tileLayer%28%0A%20%20%20%20%20%20%20%20%20%20%20%20%20%20%20%20%22https%3A//cartodb-basemaps-%7Bs%7D.global.ssl.fastly.net/light_all/%7Bz%7D/%7Bx%7D/%7By%7D.png%22%2C%0A%20%20%20%20%20%20%20%20%20%20%20%20%20%20%20%20%7B%22attribution%22%3A%20%22%5Cu0026copy%3B%20%5Cu003ca%20href%3D%5C%22http%3A//www.openstreetmap.org/copyright%5C%22%5Cu003eOpenStreetMap%5Cu003c/a%5Cu003e%20contributors%20%5Cu0026copy%3B%20%5Cu003ca%20href%3D%5C%22http%3A//cartodb.com/attributions%5C%22%5Cu003eCartoDB%5Cu003c/a%5Cu003e%2C%20CartoDB%20%5Cu003ca%20href%20%3D%5C%22http%3A//cartodb.com/attributions%5C%22%5Cu003eattributions%5Cu003c/a%5Cu003e%22%2C%20%22detectRetina%22%3A%20false%2C%20%22maxNativeZoom%22%3A%2018%2C%20%22maxZoom%22%3A%2018%2C%20%22minZoom%22%3A%200%2C%20%22noWrap%22%3A%20false%2C%20%22opacity%22%3A%201%2C%20%22subdomains%22%3A%20%22abc%22%2C%20%22tms%22%3A%20false%7D%0A%20%20%20%20%20%20%20%20%20%20%20%20%29.addTo%28map_955cfca6ea4f46ad90705ba3b0b8f26e%29%3B%0A%20%20%20%20%20%20%20%20%0A%20%20%20%20%0A%20%20%20%20%20%20%20%20%20%20%20%20var%20circle_marker_220735af98404a11b883346dee32c72c%20%3D%20L.circleMarker%28%0A%20%20%20%20%20%20%20%20%20%20%20%20%20%20%20%20%5B-32.98122258308172%2C%20-60.681223885091796%5D%2C%0A%20%20%20%20%20%20%20%20%20%20%20%20%20%20%20%20%7B%22bubblingMouseEvents%22%3A%20true%2C%20%22color%22%3A%20%22%233388ff%22%2C%20%22dashArray%22%3A%20null%2C%20%22dashOffset%22%3A%20null%2C%20%22fill%22%3A%20false%2C%20%22fillColor%22%3A%20%22%233388ff%22%2C%20%22fillOpacity%22%3A%200.2%2C%20%22fillRule%22%3A%20%22evenodd%22%2C%20%22lineCap%22%3A%20%22round%22%2C%20%22lineJoin%22%3A%20%22round%22%2C%20%22opacity%22%3A%201.0%2C%20%22radius%22%3A%2010%2C%20%22stroke%22%3A%20true%2C%20%22weight%22%3A%203%7D%0A%20%20%20%20%20%20%20%20%20%20%20%20%29.addTo%28map_955cfca6ea4f46ad90705ba3b0b8f26e%29%3B%0A%20%20%20%20%20%20%20%20%0A%20%20%20%20%0A%20%20%20%20%20%20%20%20%20%20%20%20var%20circle_marker_3aa3905749d443888fdd83e0bbb97386%20%3D%20L.circleMarker%28%0A%20%20%20%20%20%20%20%20%20%20%20%20%20%20%20%20%5B-32.95097113384128%2C%20-60.634955387146675%5D%2C%0A%20%20%20%20%20%20%20%20%20%20%20%20%20%20%20%20%7B%22bubblingMouseEvents%22%3A%20true%2C%20%22color%22%3A%20%22%233388ff%22%2C%20%22dashArray%22%3A%20null%2C%20%22dashOffset%22%3A%20null%2C%20%22fill%22%3A%20false%2C%20%22fillColor%22%3A%20%22%233388ff%22%2C%20%22fillOpacity%22%3A%200.2%2C%20%22fillRule%22%3A%20%22evenodd%22%2C%20%22lineCap%22%3A%20%22round%22%2C%20%22lineJoin%22%3A%20%22round%22%2C%20%22opacity%22%3A%201.0%2C%20%22radius%22%3A%2010%2C%20%22stroke%22%3A%20true%2C%20%22weight%22%3A%203%7D%0A%20%20%20%20%20%20%20%20%20%20%20%20%29.addTo%28map_955cfca6ea4f46ad90705ba3b0b8f26e%29%3B%0A%20%20%20%20%20%20%20%20%0A%20%20%20%20%0A%20%20%20%20%20%20%20%20%20%20%20%20var%20circle_marker_ed3b8bcd481d4a65963357ab011a1689%20%3D%20L.circleMarker%28%0A%20%20%20%20%20%20%20%20%20%20%20%20%20%20%20%20%5B-32.99142116984583%2C%20-60.66540024142628%5D%2C%0A%20%20%20%20%20%20%20%20%20%20%20%20%20%20%20%20%7B%22bubblingMouseEvents%22%3A%20true%2C%20%22color%22%3A%20%22%233388ff%22%2C%20%22dashArray%22%3A%20null%2C%20%22dashOffset%22%3A%20null%2C%20%22fill%22%3A%20false%2C%20%22fillColor%22%3A%20%22%233388ff%22%2C%20%22fillOpacity%22%3A%200.2%2C%20%22fillRule%22%3A%20%22evenodd%22%2C%20%22lineCap%22%3A%20%22round%22%2C%20%22lineJoin%22%3A%20%22round%22%2C%20%22opacity%22%3A%201.0%2C%20%22radius%22%3A%2010%2C%20%22stroke%22%3A%20true%2C%20%22weight%22%3A%203%7D%0A%20%20%20%20%20%20%20%20%20%20%20%20%29.addTo%28map_955cfca6ea4f46ad90705ba3b0b8f26e%29%3B%0A%20%20%20%20%20%20%20%20%0A%20%20%20%20%0A%20%20%20%20%20%20%20%20%20%20%20%20var%20circle_marker_53d1019adae84992a243baddcc8f0b33%20%3D%20L.circleMarker%28%0A%20%20%20%20%20%20%20%20%20%20%20%20%20%20%20%20%5B-32.96340979435885%2C%20-60.646820481507%5D%2C%0A%20%20%20%20%20%20%20%20%20%20%20%20%20%20%20%20%7B%22bubblingMouseEvents%22%3A%20true%2C%20%22color%22%3A%20%22%233388ff%22%2C%20%22dashArray%22%3A%20null%2C%20%22dashOffset%22%3A%20null%2C%20%22fill%22%3A%20false%2C%20%22fillColor%22%3A%20%22%233388ff%22%2C%20%22fillOpacity%22%3A%200.2%2C%20%22fillRule%22%3A%20%22evenodd%22%2C%20%22lineCap%22%3A%20%22round%22%2C%20%22lineJoin%22%3A%20%22round%22%2C%20%22opacity%22%3A%201.0%2C%20%22radius%22%3A%2010%2C%20%22stroke%22%3A%20true%2C%20%22weight%22%3A%203%7D%0A%20%20%20%20%20%20%20%20%20%20%20%20%29.addTo%28map_955cfca6ea4f46ad90705ba3b0b8f26e%29%3B%0A%20%20%20%20%20%20%20%20%0A%20%20%20%20%0A%20%20%20%20%20%20%20%20%20%20%20%20var%20circle_marker_f772644993844517be9848d29eb6288b%20%3D%20L.circleMarker%28%0A%20%20%20%20%20%20%20%20%20%20%20%20%20%20%20%20%5B-32.91318716646089%2C%20-60.69553739132439%5D%2C%0A%20%20%20%20%20%20%20%20%20%20%20%20%20%20%20%20%7B%22bubblingMouseEvents%22%3A%20true%2C%20%22color%22%3A%20%22%233388ff%22%2C%20%22dashArray%22%3A%20null%2C%20%22dashOffset%22%3A%20null%2C%20%22fill%22%3A%20false%2C%20%22fillColor%22%3A%20%22%233388ff%22%2C%20%22fillOpacity%22%3A%200.2%2C%20%22fillRule%22%3A%20%22evenodd%22%2C%20%22lineCap%22%3A%20%22round%22%2C%20%22lineJoin%22%3A%20%22round%22%2C%20%22opacity%22%3A%201.0%2C%20%22radius%22%3A%2010%2C%20%22stroke%22%3A%20true%2C%20%22weight%22%3A%203%7D%0A%20%20%20%20%20%20%20%20%20%20%20%20%29.addTo%28map_955cfca6ea4f46ad90705ba3b0b8f26e%29%3B%0A%20%20%20%20%20%20%20%20%0A%20%20%20%20%0A%20%20%20%20%20%20%20%20%20%20%20%20var%20circle_marker_5813c8612bf84af5b3bab70b1a6a5bba%20%3D%20L.circleMarker%28%0A%20%20%20%20%20%20%20%20%20%20%20%20%20%20%20%20%5B-32.8835828301619%2C%20-60.72825405442224%5D%2C%0A%20%20%20%20%20%20%20%20%20%20%20%20%20%20%20%20%7B%22bubblingMouseEvents%22%3A%20true%2C%20%22color%22%3A%20%22%233388ff%22%2C%20%22dashArray%22%3A%20null%2C%20%22dashOffset%22%3A%20null%2C%20%22fill%22%3A%20false%2C%20%22fillColor%22%3A%20%22%233388ff%22%2C%20%22fillOpacity%22%3A%200.2%2C%20%22fillRule%22%3A%20%22evenodd%22%2C%20%22lineCap%22%3A%20%22round%22%2C%20%22lineJoin%22%3A%20%22round%22%2C%20%22opacity%22%3A%201.0%2C%20%22radius%22%3A%2010%2C%20%22stroke%22%3A%20true%2C%20%22weight%22%3A%203%7D%0A%20%20%20%20%20%20%20%20%20%20%20%20%29.addTo%28map_955cfca6ea4f46ad90705ba3b0b8f26e%29%3B%0A%20%20%20%20%20%20%20%20%0A%20%20%20%20%0A%20%20%20%20%20%20%20%20%20%20%20%20var%20circle_marker_58b80c1417c2483684b9485060932e19%20%3D%20L.circleMarker%28%0A%20%20%20%20%20%20%20%20%20%20%20%20%20%20%20%20%5B-32.948811802966226%2C%20-60.64184689719686%5D%2C%0A%20%20%20%20%20%20%20%20%20%20%20%20%20%20%20%20%7B%22bubblingMouseEvents%22%3A%20true%2C%20%22color%22%3A%20%22%233388ff%22%2C%20%22dashArray%22%3A%20null%2C%20%22dashOffset%22%3A%20null%2C%20%22fill%22%3A%20false%2C%20%22fillColor%22%3A%20%22%233388ff%22%2C%20%22fillOpacity%22%3A%200.2%2C%20%22fillRule%22%3A%20%22evenodd%22%2C%20%22lineCap%22%3A%20%22round%22%2C%20%22lineJoin%22%3A%20%22round%22%2C%20%22opacity%22%3A%201.0%2C%20%22radius%22%3A%2010%2C%20%22stroke%22%3A%20true%2C%20%22weight%22%3A%203%7D%0A%20%20%20%20%20%20%20%20%20%20%20%20%29.addTo%28map_955cfca6ea4f46ad90705ba3b0b8f26e%29%3B%0A%20%20%20%20%20%20%20%20%0A%3C/script%3E onload=\"this.contentDocument.open();this.contentDocument.write(    decodeURIComponent(this.getAttribute('data-html')));this.contentDocument.close();\" allowfullscreen webkitallowfullscreen mozallowfullscreen></iframe></div></div>"
      ],
      "text/plain": [
       "<folium.folium.Map at 0x7ff3423babe0>"
      ]
     },
     "execution_count": 8,
     "metadata": {},
     "output_type": "execute_result"
    }
   ],
   "source": [
    "map1"
   ]
  },
  {
   "cell_type": "code",
   "execution_count": null,
   "id": "15f07980",
   "metadata": {},
   "outputs": [],
   "source": []
  }
 ],
 "metadata": {
  "kernelspec": {
   "display_name": "Python 3 (ipykernel)",
   "language": "python",
   "name": "python3"
  },
  "language_info": {
   "codemirror_mode": {
    "name": "ipython",
    "version": 3
   },
   "file_extension": ".py",
   "mimetype": "text/x-python",
   "name": "python",
   "nbconvert_exporter": "python",
   "pygments_lexer": "ipython3",
   "version": "3.8.10"
  }
 },
 "nbformat": 4,
 "nbformat_minor": 5
}
