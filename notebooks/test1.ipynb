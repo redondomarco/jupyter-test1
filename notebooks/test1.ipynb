{
 "cells": [
  {
   "cell_type": "code",
   "execution_count": 1,
   "id": "0fda85f1",
   "metadata": {},
   "outputs": [
    {
     "name": "stdout",
     "output_type": "stream",
     "text": [
      "'exportacionTipoFecha - Sua.ods'\r\n",
      "'exportacionTipo-reclamo y Fecha agosto 2021.ods'\r\n",
      " jupyterhub_cookie_secret\r\n",
      " jupyterhub-proxy.pid\r\n",
      " jupyterhub.sqlite\r\n",
      " \u001b[0m\u001b[01;34mmodules\u001b[0m/\r\n",
      "'Problemas de frecuencias y horarios -julio y agosto 2021.ods'\r\n",
      " Untitled.ipynb\r\n"
     ]
    }
   ],
   "source": [
    "ls"
   ]
  },
  {
   "cell_type": "code",
   "execution_count": 2,
   "id": "82711ae4",
   "metadata": {},
   "outputs": [],
   "source": [
    "import pandas"
   ]
  }
 ],
 "metadata": {
  "kernelspec": {
   "display_name": "Python 3 (ipykernel)",
   "language": "python",
   "name": "python3"
  },
  "language_info": {
   "codemirror_mode": {
    "name": "ipython",
    "version": 3
   },
   "file_extension": ".py",
   "mimetype": "text/x-python",
   "name": "python",
   "nbconvert_exporter": "python",
   "pygments_lexer": "ipython3",
   "version": "3.8.10"
  }
 },
 "nbformat": 4,
 "nbformat_minor": 5
}
